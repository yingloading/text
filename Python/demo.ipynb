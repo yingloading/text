{
 "cells": [
  {
   "cell_type": "code",
   "execution_count": 3,
   "id": "18ead029",
   "metadata": {},
   "outputs": [
    {
     "name": "stdout",
     "output_type": "stream",
     "text": [
      "{\n",
      "  \"tok/fine\": [\n",
      "    [\"我\", \"的\", \"希望\", \"是\", \"希望\", \"张晚霞\", \"的\", \"背影\", \"被\", \"晚霞\", \"映红\", \"。\"]\n",
      "  ],\n",
      "  \"pos/863\": [\n",
      "    [\"r\", \"u\", \"v\", \"vl\", \"v\", \"nh\", \"u\", \"n\", \"p\", \"n\", \"v\", \"w\"]\n",
      "  ]\n",
      "}\n"
     ]
    },
    {
     "data": {
      "text/html": [
       "<div style=\"display: table; padding-bottom: 1rem;\"><pre style=\"display: table-cell; font-family: SFMono-Regular,Menlo,Monaco,Consolas,Liberation Mono,Courier New,monospace; white-space: nowrap; line-height: 128%; padding: 0;\">我/r&nbsp;的/u&nbsp;希望/v&nbsp;是/vl&nbsp;希望/v&nbsp;张晚霞/nh&nbsp;的/u&nbsp;背影/n&nbsp;被/p&nbsp;晚霞/n&nbsp;映红/v&nbsp;。/w</pre></div>"
      ],
      "text/plain": [
       "<IPython.core.display.HTML object>"
      ]
     },
     "metadata": {},
     "output_type": "display_data"
    }
   ],
   "source": [
    "\n",
    "\n",
    "from hanlp_restful import HanLPClient\n",
    "# auth不填则匿名，zh中文，mul多语种\n",
    "# HanLP = HanLPClient('http://127.0.0.1:9800/hanlp/v21/redirect', auth='64d9d3c31570b60088fffa03', language='zh')\n",
    "# HanLP = HanLPClient('http://120.221.212.155:10008/hanlp/v21/redirect', auth='64d9d3c31570b60088fffa03', language='zh')\n",
    "HanLP = HanLPClient('http://150.158.57.103:18089/hanlp/v21/redirect', auth='64d9d3c31570b60088fffa03', language='zh')\n",
    "\n",
    "# doc = HanLP.parse('晓美焰来到北京立方庭参观自然语义科技公司。', tasks='dep')\n",
    "# doc = HanLP.parse('我的希望是希望张晚霞的背影被晚霞映红。', tasks='pos/ctb')\n",
    "doc = HanLP.parse('我的希望是希望张晚霞的背影被晚霞映红。', tasks='pos/863')\n",
    "print(doc)\n",
    "doc.pretty_print()"
   ]
  },
  {
   "cell_type": "code",
   "execution_count": null,
   "id": "6dcdfcf1",
   "metadata": {},
   "outputs": [],
   "source": []
  }
 ],
 "metadata": {
  "kernelspec": {
   "display_name": "Python 3 (ipykernel)",
   "language": "python",
   "name": "python3"
  },
  "language_info": {
   "codemirror_mode": {
    "name": "ipython",
    "version": 3
   },
   "file_extension": ".py",
   "mimetype": "text/x-python",
   "name": "python",
   "nbconvert_exporter": "python",
   "pygments_lexer": "ipython3",
   "version": "3.7.16"
  }
 },
 "nbformat": 4,
 "nbformat_minor": 5
}
